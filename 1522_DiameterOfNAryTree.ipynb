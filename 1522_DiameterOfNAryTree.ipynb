{
 "metadata": {
  "language_info": {
   "codemirror_mode": {
    "name": "ipython",
    "version": 3
   },
   "file_extension": ".py",
   "mimetype": "text/x-python",
   "name": "python",
   "nbconvert_exporter": "python",
   "pygments_lexer": "ipython3",
   "version": "3.8.5-final"
  },
  "orig_nbformat": 2,
  "kernelspec": {
   "name": "python_defaultSpec_1600457859391",
   "display_name": "Python 3.8.5 64-bit"
  }
 },
 "nbformat": 4,
 "nbformat_minor": 2,
 "cells": [
  {
   "source": [
    "Given a root of an N-ary tree, you need to compute the length of the diameter of the tree.\n",
    "\n",
    "The diameter of an N-ary tree is the length of the longest path between any two nodes in the tree. This path may or may not pass through the root.\n",
    "\n",
    "(Nary-Tree input serialization is represented in their level order traversal, each group of children is separated by the null value.)\n",
    "\n",
    " \n",
    "\n",
    "Example 1:\n",
    "      1\n",
    "    / | \\\n",
    "   3  2  4\n",
    "  / \\\n",
    " 5   6\n",
    "\n",
    "\n",
    "Input: root = [1,null,3,2,4,null,5,6]\n",
    "Output: 3\n",
    "Explanation: 5 3 1 2\n",
    "\n",
    "Example 2:\n",
    "      1\n",
    "     /\n",
    "    2\n",
    "   /\\\n",
    "  3  4\n",
    " /    \\\n",
    "5      6\n",
    "\n",
    "\n",
    "Input: root = [1,null,2,null,3,4,null,5,null,6]\n",
    "Output: 4\n",
    "\n",
    "Example 3:\n",
    "       1\n",
    " /  /    \\     \\\n",
    "2  3      4     5\n",
    "  / \\     |    / \\\n",
    " 6   7    8   9  10\n",
    "     |    |   |\n",
    "     11   12 13\n",
    "     |\n",
    "     14\n",
    "\n",
    "\n",
    "Input: root = [1,null,2,3,4,5,null,null,6,7,null,8,null,9,10,null,null,11,null,12,null,13,null,null,14]\n",
    "Output: 7\n",
    " \n",
    "\n",
    "Constraints:\n",
    "\n",
    "The depth of the n-ary tree is less than or equal to 1000.\n",
    "The total number of nodes is between [0, 10^4]."
   ],
   "cell_type": "markdown",
   "metadata": {}
  },
  {
   "cell_type": "code",
   "execution_count": 1,
   "metadata": {},
   "outputs": [],
   "source": [
    "class Node(object):\n",
    "    def __init__(self, val=None, children=None):\n",
    "        self.val = val\n",
    "        self.children = children if children is not None else []"
   ]
  },
  {
   "cell_type": "code",
   "execution_count": 2,
   "metadata": {},
   "outputs": [],
   "source": [
    "class Solution(object):\n",
    "    def diameter(self, root):\n",
    "        if root is None:\n",
    "            return 0,0\n",
    "        dmax, hmax, hmax2 = 0,0,0\n",
    "        for node in root.children:\n",
    "            d,h = self.diameter(node)\n",
    "            dmax = d if d>dmax else dmax\n",
    "            hmax2 = h if h>hmax2 else hmax2\n",
    "            if hmax2>hmax:\n",
    "                t= hmax\n",
    "                hmax = hmax2\n",
    "                hmax2 = t\n",
    "        return max(dmax, hmax+ hmax2), 1 + hmax"
   ]
  },
  {
   "cell_type": "code",
   "execution_count": 3,
   "metadata": {
    "tags": []
   },
   "outputs": [
    {
     "output_type": "execute_result",
     "data": {
      "text/plain": "3"
     },
     "metadata": {},
     "execution_count": 3
    }
   ],
   "source": [
    "nodes = []\n",
    "for i in range(6):\n",
    "    nodes.append(Node(i+1))\n",
    "nodes[0].children = [nodes[2],nodes[1],nodes[3]]\n",
    "nodes[2].children = [nodes[4],nodes[5]]\n",
    "Solution().diameter(nodes[0])[1]"
   ]
  },
  {
   "cell_type": "code",
   "execution_count": 4,
   "metadata": {
    "tags": []
   },
   "outputs": [
    {
     "output_type": "execute_result",
     "data": {
      "text/plain": "4"
     },
     "metadata": {},
     "execution_count": 4
    }
   ],
   "source": [
    "nodes = []\n",
    "for i in range(6):\n",
    "    nodes.append(Node(i+1))\n",
    "nodes[0].children = [nodes[1]]\n",
    "nodes[1].children = [nodes[2],nodes[3]]\n",
    "nodes[2].children = [nodes[4]]\n",
    "nodes[3].children = [nodes[5]]\n",
    "Solution().diameter(nodes[0])[1]"
   ]
  }
 ]
}