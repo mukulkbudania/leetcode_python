{
 "metadata": {
  "language_info": {
   "codemirror_mode": {
    "name": "ipython",
    "version": 3
   },
   "file_extension": ".py",
   "mimetype": "text/x-python",
   "name": "python",
   "nbconvert_exporter": "python",
   "pygments_lexer": "ipython3",
   "version": "3.8.5-final"
  },
  "orig_nbformat": 2,
  "kernelspec": {
   "name": "python_defaultSpec_1600461824989",
   "display_name": "Python 3.8.5 64-bit"
  }
 },
 "nbformat": 4,
 "nbformat_minor": 2,
 "cells": [
  {
   "source": [
    "In an infinite chess board with coordinates from -infinity to +infinity, you have a knight at square [0, 0].\n",
    "\n",
    "A knight has 8 possible moves it can make, as illustrated below. Each move is two squares in a cardinal direction, then one square in an orthogonal direction.\n",
    "\n",
    "\n",
    "\n",
    "Return the minimum number of steps needed to move the knight to the square [x, y].  It is guaranteed the answer exists.\n",
    "\n",
    " \n",
    "\n",
    "Example 1:\n",
    "\n",
    "Input: x = 2, y = 1\n",
    "Output: 1\n",
    "Explanation: [0, 0] → [2, 1]\n",
    "Example 2:\n",
    "\n",
    "Input: x = 5, y = 5\n",
    "Output: 4\n",
    "Explanation: [0, 0] → [2, 1] → [4, 2] → [3, 4] → [5, 5]\n",
    " \n",
    "\n",
    "Constraints:\n",
    "\n",
    "|x| + |y| <= 300"
   ],
   "cell_type": "markdown",
   "metadata": {}
  },
  {
   "cell_type": "code",
   "execution_count": 43,
   "metadata": {},
   "outputs": [],
   "source": [
    "from queue import Queue\n",
    "class Solution(object):\n",
    "    def minKnightMoves(self, x, y):\n",
    "        if x==0 & y==0:\n",
    "            0\n",
    "        visited = [[False] * 601 for _ in range(601)]\n",
    "        x,y = x+300,y+300\n",
    "        moves,hops = [[-1,-2],[-1,2],[1,-2],[1,2],[-2,-1],[-2,1],[2,-1],[2,1]], 0\n",
    "        q = Queue()\n",
    "        q.put([300,300])\n",
    "        q.put([-1,-1])\n",
    "        while q.empty() is False:\n",
    "            point = q.get()\n",
    "            if point == [-1,-1]:\n",
    "                if q.empty():\n",
    "                    return -1\n",
    "                else:\n",
    "                    hops=hops+1\n",
    "                    q.put(point)\n",
    "            else:            \n",
    "                visited[point[0]][point[1]]=True\n",
    "                print\n",
    "                if point[0]==x and point[1]==y:\n",
    "                    return hops\n",
    "                else:\n",
    "                    for element in moves:\n",
    "                        new_point = [a + b for a, b in zip(element, point)]\n",
    "                        if abs(new_point[0]-300)+abs(new_point[1]-300) <=300 and visited[new_point[0]][new_point[1]] is False:\n",
    "                            q.put(new_point)\n",
    "                    \n"
   ]
  },
  {
   "cell_type": "code",
   "execution_count": 44,
   "metadata": {
    "tags": []
   },
   "outputs": [
    {
     "output_type": "stream",
     "name": "stdout",
     "text": "False\n1\n"
    }
   ],
   "source": [
    "print(Solution().minKnightMoves(2,1))"
   ]
  }
 ]
}