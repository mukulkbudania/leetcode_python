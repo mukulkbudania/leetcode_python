{
 "cells": [
  {
   "cell_type": "markdown",
   "metadata": {},
   "source": [
    "You are given two non-empty linked lists representing two non-negative integers. The digits are stored in reverse order, and each of their nodes contains a single digit. Add the two numbers and return the sum as a linked list.\n",
    "\n",
    "You may assume the two numbers do not contain any leading zero, except the number 0 itself.\n",
    "\n",
    " \n",
    "\n",
    "Example 1:\n",
    "\n",
    "\n",
    "Input: l1 = [2,4,3], l2 = [5,6,4]\n",
    "Output: [7,0,8]\n",
    "Explanation: 342 + 465 = 807.\n",
    "Example 2:\n",
    "\n",
    "Input: l1 = [0], l2 = [0]\n",
    "Output: [0]\n",
    "Example 3:\n",
    "\n",
    "Input: l1 = [9,9,9,9,9,9,9], l2 = [9,9,9,9]\n",
    "Output: [8,9,9,9,0,0,0,1]\n",
    " \n",
    "\n",
    "Constraints:\n",
    "\n",
    "The number of nodes in each linked list is in the range [1, 100].\n",
    "0 <= Node.val <= 9\n",
    "It is guaranteed that the list represents a number that does not have leading zeros."
   ]
  },
  {
   "cell_type": "code",
   "execution_count": 23,
   "metadata": {},
   "outputs": [],
   "source": [
    "class ListNode(object):\n",
    "    def __init__(self, val=0, next=None):\n",
    "        self.val = val\n",
    "        self.next = next"
   ]
  },
  {
   "cell_type": "code",
   "execution_count": null,
   "metadata": {},
   "outputs": [],
   "source": [
    "class Solution(object):\n",
    "    def addTwoNumbers(self, l1, l2):\n",
    "        result = ListNode(0)\n",
    "        curr = result\n",
    "        carry = 0\n",
    "        while l1 != None or l2!= None or carry !=0:\n",
    "            l1Val = l1.val if l1 else 0\n",
    "            l2Val = l2.val if l2 else 0\n",
    "            val = l1Val + l2Val + carry\n",
    "            carry=val//10  # // is for integer division \n",
    "            val=val%10\n",
    "            nextNode = ListNode(val)\n",
    "            curr.next = nextNode\n",
    "            curr = nextNode\n",
    "            l1 = l1.next if l1 else None\n",
    "            l2 = l2.next if l2 else None\n",
    "        return result.next"
   ]
  },
  {
   "cell_type": "code",
   "execution_count": 25,
   "metadata": {},
   "outputs": [
    {
     "name": "stdout",
     "output_type": "stream",
     "text": [
      "7 0 8 "
     ]
    }
   ],
   "source": [
    "def createListNode(arr):\n",
    "    if len(arr) == 0:\n",
    "        return None\n",
    "    head = ListNode(arr[0])\n",
    "    curr = head\n",
    "    for i in range(1, len(arr)):\n",
    "        curr.next = ListNode(arr[i])\n",
    "        curr = curr.next\n",
    "    return head\n",
    "\n",
    "def printListNode(head):\n",
    "    while head != None:\n",
    "        print(head.val, end=\" \")\n",
    "        head = head.next\n",
    "\n",
    "l1 = createListNode([2,4,3])\n",
    "l2 = createListNode([5,6,4])\n",
    "result = Solution().addTwoNumbers(l1, l2)\n",
    "printListNode(result)"
   ]
  }
 ],
 "metadata": {
  "kernelspec": {
   "display_name": "Python 3",
   "language": "python",
   "name": "python3"
  },
  "language_info": {
   "codemirror_mode": {
    "name": "ipython",
    "version": 3
   },
   "file_extension": ".py",
   "mimetype": "text/x-python",
   "name": "python",
   "nbconvert_exporter": "python",
   "pygments_lexer": "ipython3",
   "version": "3.11.11"
  }
 },
 "nbformat": 4,
 "nbformat_minor": 2
}
