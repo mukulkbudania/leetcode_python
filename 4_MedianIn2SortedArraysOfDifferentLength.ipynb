{
 "metadata": {
  "language_info": {
   "codemirror_mode": {
    "name": "ipython",
    "version": 3
   },
   "file_extension": ".py",
   "mimetype": "text/x-python",
   "name": "python",
   "nbconvert_exporter": "python",
   "pygments_lexer": "ipython3",
   "version": "3.8.5-final"
  },
  "orig_nbformat": 2,
  "kernelspec": {
   "name": "python_defaultSpec_1600327425499",
   "display_name": "Python 3.8.5 64-bit"
  }
 },
 "nbformat": 4,
 "nbformat_minor": 2,
 "cells": [
  {
   "source": [
    "Given two sorted arrays nums1 and nums2 of size m and n respectively, return the median of the two sorted arrays.\n",
    "\n",
    "Follow up: The overall run time complexity should be O(log (m+n)).\n",
    "\n",
    " \n",
    "\n",
    "Example 1:\n",
    "\n",
    "Input: nums1 = [1,3], nums2 = [2]\n",
    "Output: 2.00000\n",
    "Explanation: merged array = [1,2,3] and median is 2.\n",
    "Example 2:\n",
    "\n",
    "Input: nums1 = [1,2], nums2 = [3,4]\n",
    "Output: 2.50000\n",
    "Explanation: merged array = [1,2,3,4] and median is (2 + 3) / 2 = 2.5.\n",
    "Example 3:\n",
    "\n",
    "Input: nums1 = [0,0], nums2 = [0,0]\n",
    "Output: 0.00000\n",
    "Example 4:\n",
    "\n",
    "Input: nums1 = [], nums2 = [1]\n",
    "Output: 1.00000\n",
    "Example 5:\n",
    "\n",
    "Input: nums1 = [2], nums2 = []\n",
    "Output: 2.00000\n",
    " \n",
    "\n",
    "Constraints:\n",
    "\n",
    "nums1.length == m\n",
    "nums2.length == n\n",
    "0 <= m <= 1000\n",
    "0 <= n <= 1000\n",
    "1 <= m + n <= 2000\n",
    "-106 <= nums1[i], nums2[i] <= 106"
   ],
   "cell_type": "markdown",
   "metadata": {}
  },
  {
   "source": [
    "#Reference video: https://www.youtube.com/watch?v=LPFhl65R7ww"
   ],
   "cell_type": "markdown",
   "metadata": {}
  },
  {
   "cell_type": "code",
   "execution_count": 67,
   "metadata": {},
   "outputs": [],
   "source": [
    "class Solution(object):\n",
    "    def findMedianSortedArrays(self, nums1, nums2):\n",
    "            len1, len2 = len(nums1), len(nums2)\n",
    "            #Array 1 needs to be the bigger array.\n",
    "            if len1 < len2:\n",
    "                return self.findMedianSortedArrays(nums2, nums1)   \n",
    "            start, end = 0, len2\n",
    "            while start <= end:\n",
    "                partition2 = (start + end) >> 1\n",
    "                partition1 = ((len1 + len2 + 1) >> 1) - partition2\n",
    "                #print( [ start, end, partition1, partition2 ] , sep = \" \" ) \n",
    "                L1 = -sys.maxsize - 1 if partition1 == 0 else nums1[partition1-1]\n",
    "                L2 = -sys.maxsize - 1 if partition2 == 0 else nums2[partition2-1]\n",
    "                R1 = sys.maxsize if partition1 == len1 else nums1[partition1]\n",
    "                R2 = sys.maxsize if partition2 == len2 else nums2[partition2]\n",
    "                #print( [ L1, L2, R1, R2] , sep = \" \" )\n",
    "                if L1 > R2:\n",
    "                    start = partition2 + 1\n",
    "                elif L2 > R1:\n",
    "                    end = partition2 - 1\n",
    "                else:\n",
    "                    #Since we do a +1 for partition1, left side always ends up with odd elements.\n",
    "                    return max(L1, L2) if (len1 + len2)%2 != 0 else (max(L1, L2) + min(R1, R2)) / 2.0"
   ]
  },
  {
   "source": [
    "Tests:"
   ],
   "cell_type": "markdown",
   "metadata": {}
  },
  {
   "cell_type": "code",
   "execution_count": 68,
   "metadata": {
    "tags": []
   },
   "outputs": [
    {
     "output_type": "execute_result",
     "data": {
      "text/plain": "4.0"
     },
     "metadata": {},
     "execution_count": 68
    }
   ],
   "source": [
    "Solution().findMedianSortedArrays([1,5,8,9],[2,3])"
   ]
  },
  {
   "cell_type": "code",
   "execution_count": 69,
   "metadata": {
    "tags": []
   },
   "outputs": [
    {
     "output_type": "execute_result",
     "data": {
      "text/plain": "16"
     },
     "metadata": {},
     "execution_count": 69
    }
   ],
   "source": [
    "Solution().findMedianSortedArrays([1,3,8,15,19,23],[7,11,16,18,19,21,25])"
   ]
  },
  {
   "cell_type": "code",
   "execution_count": 70,
   "metadata": {
    "tags": []
   },
   "outputs": [
    {
     "output_type": "execute_result",
     "data": {
      "text/plain": "7"
     },
     "metadata": {},
     "execution_count": 70
    }
   ],
   "source": [
    "Solution().findMedianSortedArrays([],[7])"
   ]
  },
  {
   "cell_type": "code",
   "execution_count": 71,
   "metadata": {
    "tags": []
   },
   "outputs": [
    {
     "output_type": "execute_result",
     "data": {
      "text/plain": "4.0"
     },
     "metadata": {},
     "execution_count": 71
    }
   ],
   "source": [
    "Solution().findMedianSortedArrays([7],[1])"
   ]
  }
 ]
}